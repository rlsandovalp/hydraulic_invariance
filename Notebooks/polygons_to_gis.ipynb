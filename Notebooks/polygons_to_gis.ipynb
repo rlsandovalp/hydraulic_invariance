{
 "cells": [
  {
   "cell_type": "code",
   "execution_count": 23,
   "metadata": {},
   "outputs": [],
   "source": [
    "import numpy as np\n",
    "import pandas as pd"
   ]
  },
  {
   "cell_type": "code",
   "execution_count": 24,
   "metadata": {},
   "outputs": [],
   "source": [
    "data = pd.read_csv('../Data/polygons_vertices.txt', names = ['Polygon', 'X_coord', 'Y_coord'])"
   ]
  },
  {
   "cell_type": "code",
   "execution_count": 25,
   "metadata": {},
   "outputs": [],
   "source": [
    "polygons = data['Polygon'].unique()"
   ]
  },
  {
   "cell_type": "code",
   "execution_count": 26,
   "metadata": {},
   "outputs": [],
   "source": [
    "\n",
    "results = pd.DataFrame(np.zeros((len(polygons),3)), columns = ['id', 'name', 'wkt'])\n",
    "for npol, polygon in enumerate(polygons):\n",
    "    results.iloc[npol,0] = npol+1\n",
    "    results.iloc[npol,1] = polygon\n",
    "    coordinates = data[data['Polygon'] == polygon].values[:,1:]\n",
    "    STR = 'POLYGON(('\n",
    "    for coordinate in coordinates:\n",
    "        STR = STR + str(coordinate[0]) + ' ' + str(coordinate[1]) + ','\n",
    "    STR = STR + '))'\n",
    "    results.iloc[npol,2] = STR\n"
   ]
  },
  {
   "cell_type": "code",
   "execution_count": 27,
   "metadata": {},
   "outputs": [],
   "source": [
    "results.to_csv('../polygons.csv')"
   ]
  }
 ],
 "metadata": {
  "kernelspec": {
   "display_name": "Python 3.8.5",
   "language": "python",
   "name": "python3"
  },
  "language_info": {
   "codemirror_mode": {
    "name": "ipython",
    "version": 3
   },
   "file_extension": ".py",
   "mimetype": "text/x-python",
   "name": "python",
   "nbconvert_exporter": "python",
   "pygments_lexer": "ipython3",
   "version": "3.8.5"
  },
  "orig_nbformat": 4,
  "vscode": {
   "interpreter": {
    "hash": "76a2a83cd8d60c8547235e6ccec9c6c643f0b5fc2923cb924e604f05304f37cb"
   }
  }
 },
 "nbformat": 4,
 "nbformat_minor": 2
}
